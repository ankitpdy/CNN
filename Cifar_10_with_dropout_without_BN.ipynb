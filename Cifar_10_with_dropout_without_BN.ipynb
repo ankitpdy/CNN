{
  "nbformat": 4,
  "nbformat_minor": 0,
  "metadata": {
    "kernelspec": {
      "name": "python3",
      "display_name": "Python 3"
    },
    "colab": {
      "name": "Copy of 1.+Cifar_10_with_dropout_without_BN.ipynb",
      "provenance": [],
      "collapsed_sections": [],
      "include_colab_link": true
    },
    "accelerator": "GPU"
  },
  "cells": [
    {
      "cell_type": "markdown",
      "metadata": {
        "id": "view-in-github",
        "colab_type": "text"
      },
      "source": [
        "<a href=\"https://colab.research.google.com/github/ankitpdy/CNN/blob/master/Cifar_10_with_dropout_without_BN.ipynb\" target=\"_parent\"><img src=\"https://colab.research.google.com/assets/colab-badge.svg\" alt=\"Open In Colab\"/></a>"
      ]
    },
    {
      "cell_type": "code",
      "metadata": {
        "id": "3IGIVqhRm-8J",
        "colab_type": "code",
        "outputId": "906193a8-5926-448f-d118-5b04bcd711dd",
        "colab": {
          "base_uri": "https://localhost:8080/",
          "height": 79
        }
      },
      "source": [
        "# import libraries\n",
        "from __future__ import print_function\n",
        "import keras\n",
        "from keras.datasets import cifar10\n",
        "from keras.preprocessing.image import ImageDataGenerator\n",
        "from keras.models import Sequential\n",
        "from keras.layers import Dense, Dropout, Activation, Flatten\n",
        "from keras.layers import Conv2D, MaxPooling2D\n",
        "import numpy as np\n",
        "import os\n",
        "import matplotlib.pyplot as plt\n",
        "%matplotlib inline"
      ],
      "execution_count": 0,
      "outputs": [
        {
          "output_type": "stream",
          "text": [
            "Using TensorFlow backend.\n"
          ],
          "name": "stderr"
        },
        {
          "output_type": "display_data",
          "data": {
            "text/html": [
              "<p style=\"color: red;\">\n",
              "The default version of TensorFlow in Colab will soon switch to TensorFlow 2.x.<br>\n",
              "We recommend you <a href=\"https://www.tensorflow.org/guide/migrate\" target=\"_blank\">upgrade</a> now \n",
              "or ensure your notebook will continue to use TensorFlow 1.x via the <code>%tensorflow_version 1.x</code> magic:\n",
              "<a href=\"https://colab.research.google.com/notebooks/tensorflow_version.ipynb\" target=\"_blank\">more info</a>.</p>\n"
            ],
            "text/plain": [
              "<IPython.core.display.HTML object>"
            ]
          },
          "metadata": {
            "tags": []
          }
        }
      ]
    },
    {
      "cell_type": "code",
      "metadata": {
        "id": "hbLkE9tmm-8U",
        "colab_type": "code",
        "colab": {}
      },
      "source": [
        "# batch, classes, epochs\n",
        "batch_size = 32\n",
        "num_classes = 10\n",
        "epochs = 50"
      ],
      "execution_count": 0,
      "outputs": []
    },
    {
      "cell_type": "code",
      "metadata": {
        "id": "_rBP2kPnm-8Z",
        "colab_type": "code",
        "outputId": "caaa9762-1600-4fdf-ce2d-b8d7e12ba85f",
        "colab": {
          "base_uri": "https://localhost:8080/",
          "height": 101
        }
      },
      "source": [
        "# The data, split between train and test sets:\n",
        "(x_train, y_train), (x_test, y_test) = cifar10.load_data()\n",
        "print('x_train shape:', x_train.shape)\n",
        "print(x_train.shape[0], 'train samples')\n",
        "print(x_test.shape[0], 'test samples')"
      ],
      "execution_count": 0,
      "outputs": [
        {
          "output_type": "stream",
          "text": [
            "Downloading data from https://www.cs.toronto.edu/~kriz/cifar-10-python.tar.gz\n",
            "170500096/170498071 [==============================] - 6s 0us/step\n",
            "x_train shape: (50000, 32, 32, 3)\n",
            "50000 train samples\n",
            "10000 test samples\n"
          ],
          "name": "stdout"
        }
      ]
    },
    {
      "cell_type": "code",
      "metadata": {
        "id": "UuLsDkJSm-8d",
        "colab_type": "code",
        "outputId": "1d173047-5605-44ab-9439-05b2fda54b64",
        "colab": {
          "base_uri": "https://localhost:8080/",
          "height": 213
        }
      },
      "source": [
        "# plotting some random 10 images\n",
        "class_names = ['airplane','automobile','bird','cat','deer',\n",
        "               'dog','frog','horse','ship','truck']\n",
        "\n",
        "fig = plt.figure(figsize=(8,3))\n",
        "for i in range(num_classes):\n",
        "    ax = fig.add_subplot(2, 5, 1 + i, xticks=[], yticks=[])\n",
        "    idx = np.where(y_train[:]==i)[0]\n",
        "    features_idx = x_train[idx,::]\n",
        "    img_num = np.random.randint(features_idx.shape[0])\n",
        "    im = (features_idx[img_num,::])\n",
        "    ax.set_title(class_names[i])\n",
        "    plt.imshow(im)\n",
        "plt.show()"
      ],
      "execution_count": 0,
      "outputs": [
        {
          "output_type": "display_data",
          "data": {
            "image/png": "[encoded data removed]",
            "text/plain": [
              "<Figure size 576x216 with 10 Axes>"
            ]
          },
          "metadata": {
            "tags": []
          }
        }
      ]
    },
    {
      "cell_type": "code",
      "metadata": {
        "id": "E3bL7ECbm-8g",
        "colab_type": "code",
        "colab": {}
      },
      "source": [
        "# Convert class vectors to binary class matrices.\n",
        "y_train = keras.utils.to_categorical(y_train, num_classes)\n",
        "y_test = keras.utils.to_categorical(y_test, num_classes)"
      ],
      "execution_count": 0,
      "outputs": []
    },
    {
      "cell_type": "code",
      "metadata": {
        "id": "ooORxV5tm-8i",
        "colab_type": "code",
        "outputId": "f3941160-0826-4e9c-8f2a-e8eda6600f98",
        "colab": {
          "base_uri": "https://localhost:8080/",
          "height": 255
        }
      },
      "source": [
        "# model architecture\n",
        "model = Sequential()\n",
        "model.add(Conv2D(32, (3, 3), padding='same',\n",
        "                 input_shape=x_train.shape[1:]))\n",
        "model.add(Activation('relu'))\n",
        "model.add(Conv2D(32, (3, 3)))\n",
        "model.add(Activation('relu'))\n",
        "model.add(MaxPooling2D(pool_size=(2, 2)))\n",
        "model.add(Dropout(0.25))\n",
        "\n",
        "model.add(Conv2D(64, (3, 3), padding='same'))\n",
        "model.add(Activation('relu'))\n",
        "model.add(Conv2D(64, (3, 3)))\n",
        "model.add(Activation('relu'))\n",
        "model.add(MaxPooling2D(pool_size=(2, 2)))\n",
        "model.add(Dropout(0.25))\n",
        "\n",
        "model.add(Flatten())\n",
        "model.add(Dense(512))\n",
        "model.add(Activation('relu'))\n",
        "model.add(Dropout(0.5))\n",
        "model.add(Dense(num_classes))\n",
        "model.add(Activation('softmax'))"
      ],
      "execution_count": 0,
      "outputs": [
        {
          "output_type": "stream",
          "text": [
            "WARNING:tensorflow:From /usr/local/lib/python3.6/dist-packages/keras/backend/tensorflow_backend.py:66: The name tf.get_default_graph is deprecated. Please use tf.compat.v1.get_default_graph instead.\n",
            "\n",
            "WARNING:tensorflow:From /usr/local/lib/python3.6/dist-packages/keras/backend/tensorflow_backend.py:541: The name tf.placeholder is deprecated. Please use tf.compat.v1.placeholder instead.\n",
            "\n",
            "WARNING:tensorflow:From /usr/local/lib/python3.6/dist-packages/keras/backend/tensorflow_backend.py:4432: The name tf.random_uniform is deprecated. Please use tf.random.uniform instead.\n",
            "\n",
            "WARNING:tensorflow:From /usr/local/lib/python3.6/dist-packages/keras/backend/tensorflow_backend.py:4267: The name tf.nn.max_pool is deprecated. Please use tf.nn.max_pool2d instead.\n",
            "\n",
            "WARNING:tensorflow:From /usr/local/lib/python3.6/dist-packages/keras/backend/tensorflow_backend.py:148: The name tf.placeholder_with_default is deprecated. Please use tf.compat.v1.placeholder_with_default instead.\n",
            "\n",
            "WARNING:tensorflow:From /usr/local/lib/python3.6/dist-packages/keras/backend/tensorflow_backend.py:3733: calling dropout (from tensorflow.python.ops.nn_ops) with keep_prob is deprecated and will be removed in a future version.\n",
            "Instructions for updating:\n",
            "Please use `rate` instead of `keep_prob`. Rate should be set to `rate = 1 - keep_prob`.\n"
          ],
          "name": "stdout"
        }
      ]
    },
    {
      "cell_type": "code",
      "metadata": {
        "id": "vgZSEdGWm-8l",
        "colab_type": "code",
        "outputId": "c0f28962-8c2c-4aa5-81cc-174eccf6c398",
        "colab": {
          "base_uri": "https://localhost:8080/",
          "height": 756
        }
      },
      "source": [
        "# summary\n",
        "model.summary()"
      ],
      "execution_count": 0,
      "outputs": [
        {
          "output_type": "stream",
          "text": [
            "Model: \"sequential_1\"\n",
            "_________________________________________________________________\n",
            "Layer (type)                 Output Shape              Param #   \n",
            "=================================================================\n",
            "conv2d_1 (Conv2D)            (None, 32, 32, 32)        896       \n",
            "_________________________________________________________________\n",
            "activation_1 (Activation)    (None, 32, 32, 32)        0         \n",
            "_________________________________________________________________\n",
            "conv2d_2 (Conv2D)            (None, 30, 30, 32)        9248      \n",
            "_________________________________________________________________\n",
            "activation_2 (Activation)    (None, 30, 30, 32)        0         \n",
            "_________________________________________________________________\n",
            "max_pooling2d_1 (MaxPooling2 (None, 15, 15, 32)        0         \n",
            "_________________________________________________________________\n",
            "dropout_1 (Dropout)          (None, 15, 15, 32)        0         \n",
            "_________________________________________________________________\n",
            "conv2d_3 (Conv2D)            (None, 15, 15, 64)        18496     \n",
            "_________________________________________________________________\n",
            "activation_3 (Activation)    (None, 15, 15, 64)        0         \n",
            "_________________________________________________________________\n",
            "conv2d_4 (Conv2D)            (None, 13, 13, 64)        36928     \n",
            "_________________________________________________________________\n",
            "activation_4 (Activation)    (None, 13, 13, 64)        0         \n",
            "_________________________________________________________________\n",
            "max_pooling2d_2 (MaxPooling2 (None, 6, 6, 64)          0         \n",
            "_________________________________________________________________\n",
            "dropout_2 (Dropout)          (None, 6, 6, 64)          0         \n",
            "_________________________________________________________________\n",
            "flatten_1 (Flatten)          (None, 2304)              0         \n",
            "_________________________________________________________________\n",
            "dense_1 (Dense)              (None, 512)               1180160   \n",
            "_________________________________________________________________\n",
            "activation_5 (Activation)    (None, 512)               0         \n",
            "_________________________________________________________________\n",
            "dropout_3 (Dropout)          (None, 512)               0         \n",
            "_________________________________________________________________\n",
            "dense_2 (Dense)              (None, 10)                5130      \n",
            "_________________________________________________________________\n",
            "activation_6 (Activation)    (None, 10)                0         \n",
            "=================================================================\n",
            "Total params: 1,250,858\n",
            "Trainable params: 1,250,858\n",
            "Non-trainable params: 0\n",
            "_________________________________________________________________\n"
          ],
          "name": "stdout"
        }
      ]
    },
    {
      "cell_type": "code",
      "metadata": {
        "id": "-2yC0xeOm-8p",
        "colab_type": "code",
        "outputId": "448813ce-5c16-42e7-a809-7af2ba58ae1e",
        "colab": {
          "base_uri": "https://localhost:8080/",
          "height": 84
        }
      },
      "source": [
        "# compile the model\n",
        "model.compile(loss='categorical_crossentropy',\n",
        "              optimizer='sgd',\n",
        "              metrics=['accuracy'])\n",
        "\n",
        "# convert to float, normalise the data\n",
        "x_train = x_train.astype('float32')\n",
        "x_test = x_test.astype('float32')\n",
        "x_train /= 255\n",
        "x_test /= 255\n"
      ],
      "execution_count": 0,
      "outputs": [
        {
          "output_type": "stream",
          "text": [
            "WARNING:tensorflow:From /usr/local/lib/python3.6/dist-packages/keras/optimizers.py:793: The name tf.train.Optimizer is deprecated. Please use tf.compat.v1.train.Optimizer instead.\n",
            "\n",
            "WARNING:tensorflow:From /usr/local/lib/python3.6/dist-packages/keras/backend/tensorflow_backend.py:3576: The name tf.log is deprecated. Please use tf.math.log instead.\n",
            "\n"
          ],
          "name": "stdout"
        }
      ]
    },
    {
      "cell_type": "code",
      "metadata": {
        "id": "1qbWtNeOm-8t",
        "colab_type": "code",
        "outputId": "7092d3bf-fdba-4e16-e4b8-792d8b74fce1",
        "colab": {
          "base_uri": "https://localhost:8080/",
          "height": 1000
        }
      },
      "source": [
        "# train \n",
        "model.fit(x_train, y_train,\n",
        "              batch_size=batch_size,\n",
        "              epochs=epochs,\n",
        "              validation_data=(x_test, y_test),\n",
        "              shuffle=True)"
      ],
      "execution_count": 0,
      "outputs": [
        {
          "output_type": "stream",
          "text": [
            "WARNING:tensorflow:From /usr/local/lib/python3.6/dist-packages/tensorflow_core/python/ops/math_grad.py:1424: where (from tensorflow.python.ops.array_ops) is deprecated and will be removed in a future version.\n",
            "Instructions for updating:\n",
            "Use tf.where in 2.0, which has the same broadcast rule as np.where\n",
            "WARNING:tensorflow:From /usr/local/lib/python3.6/dist-packages/keras/backend/tensorflow_backend.py:1033: The name tf.assign_add is deprecated. Please use tf.compat.v1.assign_add instead.\n",
            "\n",
            "WARNING:tensorflow:From /usr/local/lib/python3.6/dist-packages/keras/backend/tensorflow_backend.py:1020: The name tf.assign is deprecated. Please use tf.compat.v1.assign instead.\n",
            "\n",
            "WARNING:tensorflow:From /usr/local/lib/python3.6/dist-packages/keras/backend/tensorflow_backend.py:3005: The name tf.Session is deprecated. Please use tf.compat.v1.Session instead.\n",
            "\n",
            "Train on 50000 samples, validate on 10000 samples\n",
            "Epoch 1/50\n",
            "WARNING:tensorflow:From /usr/local/lib/python3.6/dist-packages/keras/backend/tensorflow_backend.py:190: The name tf.get_default_session is deprecated. Please use tf.compat.v1.get_default_session instead.\n",
            "\n",
            "WARNING:tensorflow:From /usr/local/lib/python3.6/dist-packages/keras/backend/tensorflow_backend.py:197: The name tf.ConfigProto is deprecated. Please use tf.compat.v1.ConfigProto instead.\n",
            "\n",
            "WARNING:tensorflow:From /usr/local/lib/python3.6/dist-packages/keras/backend/tensorflow_backend.py:207: The name tf.global_variables is deprecated. Please use tf.compat.v1.global_variables instead.\n",
            "\n",
            "WARNING:tensorflow:From /usr/local/lib/python3.6/dist-packages/keras/backend/tensorflow_backend.py:216: The name tf.is_variable_initialized is deprecated. Please use tf.compat.v1.is_variable_initialized instead.\n",
            "\n",
            "WARNING:tensorflow:From /usr/local/lib/python3.6/dist-packages/keras/backend/tensorflow_backend.py:223: The name tf.variables_initializer is deprecated. Please use tf.compat.v1.variables_initializer instead.\n",
            "\n",
            "50000/50000 [==============================] - 16s 323us/step - loss: 2.0766 - acc: 0.2306 - val_loss: 1.8846 - val_acc: 0.3280\n",
            "Epoch 2/50\n",
            "50000/50000 [==============================] - 9s 174us/step - loss: 1.7401 - acc: 0.3664 - val_loss: 1.5705 - val_acc: 0.4275\n",
            "Epoch 3/50\n",
            "50000/50000 [==============================] - 9s 171us/step - loss: 1.5864 - acc: 0.4213 - val_loss: 1.4368 - val_acc: 0.4808\n",
            "Epoch 4/50\n",
            "50000/50000 [==============================] - 8s 170us/step - loss: 1.4611 - acc: 0.4705 - val_loss: 1.3609 - val_acc: 0.5039\n",
            "Epoch 5/50\n",
            "50000/50000 [==============================] - 8s 167us/step - loss: 1.3670 - acc: 0.5085 - val_loss: 1.2396 - val_acc: 0.5554\n",
            "Epoch 6/50\n",
            "50000/50000 [==============================] - 8s 170us/step - loss: 1.3004 - acc: 0.5354 - val_loss: 1.1929 - val_acc: 0.5723\n",
            "Epoch 7/50\n",
            "50000/50000 [==============================] - 8s 169us/step - loss: 1.2418 - acc: 0.5569 - val_loss: 1.3352 - val_acc: 0.5233\n",
            "Epoch 8/50\n",
            "50000/50000 [==============================] - 9s 170us/step - loss: 1.1890 - acc: 0.5784 - val_loss: 1.1416 - val_acc: 0.6008\n",
            "Epoch 9/50\n",
            "50000/50000 [==============================] - 8s 167us/step - loss: 1.1374 - acc: 0.5967 - val_loss: 1.0280 - val_acc: 0.6365\n",
            "Epoch 10/50\n",
            "50000/50000 [==============================] - 8s 168us/step - loss: 1.0895 - acc: 0.6135 - val_loss: 0.9876 - val_acc: 0.6501\n",
            "Epoch 11/50\n",
            "50000/50000 [==============================] - 8s 167us/step - loss: 1.0469 - acc: 0.6296 - val_loss: 0.9408 - val_acc: 0.6674\n",
            "Epoch 12/50\n",
            "50000/50000 [==============================] - 8s 167us/step - loss: 1.0090 - acc: 0.6442 - val_loss: 0.9289 - val_acc: 0.6772\n",
            "Epoch 13/50\n",
            "50000/50000 [==============================] - 8s 168us/step - loss: 0.9769 - acc: 0.6565 - val_loss: 0.9223 - val_acc: 0.6763\n",
            "Epoch 14/50\n",
            "50000/50000 [==============================] - 8s 170us/step - loss: 0.9414 - acc: 0.6668 - val_loss: 0.8449 - val_acc: 0.7030\n",
            "Epoch 15/50\n",
            "50000/50000 [==============================] - 8s 165us/step - loss: 0.9147 - acc: 0.6791 - val_loss: 0.8365 - val_acc: 0.7084\n",
            "Epoch 16/50\n",
            "50000/50000 [==============================] - 8s 168us/step - loss: 0.8831 - acc: 0.6911 - val_loss: 0.8182 - val_acc: 0.7142\n",
            "Epoch 17/50\n",
            "50000/50000 [==============================] - 9s 171us/step - loss: 0.8585 - acc: 0.6977 - val_loss: 0.8416 - val_acc: 0.7053\n",
            "Epoch 18/50\n",
            "50000/50000 [==============================] - 8s 167us/step - loss: 0.8303 - acc: 0.7084 - val_loss: 0.8257 - val_acc: 0.7177\n",
            "Epoch 19/50\n",
            "50000/50000 [==============================] - 8s 168us/step - loss: 0.8106 - acc: 0.7148 - val_loss: 0.7725 - val_acc: 0.7343\n",
            "Epoch 20/50\n",
            "50000/50000 [==============================] - 8s 165us/step - loss: 0.7935 - acc: 0.7197 - val_loss: 0.7410 - val_acc: 0.7416\n",
            "Epoch 21/50\n",
            "50000/50000 [==============================] - 8s 166us/step - loss: 0.7726 - acc: 0.7269 - val_loss: 0.7218 - val_acc: 0.7490\n",
            "Epoch 22/50\n",
            "50000/50000 [==============================] - 8s 168us/step - loss: 0.7529 - acc: 0.7369 - val_loss: 0.7342 - val_acc: 0.7462\n",
            "Epoch 23/50\n",
            "50000/50000 [==============================] - 8s 167us/step - loss: 0.7387 - acc: 0.7410 - val_loss: 0.7016 - val_acc: 0.7556\n",
            "Epoch 24/50\n",
            "50000/50000 [==============================] - 8s 167us/step - loss: 0.7152 - acc: 0.7467 - val_loss: 0.7065 - val_acc: 0.7548\n",
            "Epoch 25/50\n",
            "50000/50000 [==============================] - 8s 169us/step - loss: 0.6997 - acc: 0.7516 - val_loss: 0.6786 - val_acc: 0.7631\n",
            "Epoch 26/50\n",
            "50000/50000 [==============================] - 8s 167us/step - loss: 0.6874 - acc: 0.7586 - val_loss: 0.6809 - val_acc: 0.7622\n",
            "Epoch 27/50\n",
            "50000/50000 [==============================] - 8s 167us/step - loss: 0.6735 - acc: 0.7614 - val_loss: 0.7187 - val_acc: 0.7531\n",
            "Epoch 28/50\n",
            "50000/50000 [==============================] - 8s 168us/step - loss: 0.6594 - acc: 0.7691 - val_loss: 0.6827 - val_acc: 0.7596\n",
            "Epoch 29/50\n",
            "50000/50000 [==============================] - 8s 166us/step - loss: 0.6433 - acc: 0.7734 - val_loss: 0.6725 - val_acc: 0.7668\n",
            "Epoch 30/50\n",
            "50000/50000 [==============================] - 8s 165us/step - loss: 0.6332 - acc: 0.7768 - val_loss: 0.6435 - val_acc: 0.7753\n",
            "Epoch 31/50\n",
            "50000/50000 [==============================] - 8s 167us/step - loss: 0.6211 - acc: 0.7803 - val_loss: 0.6757 - val_acc: 0.7650\n",
            "Epoch 32/50\n",
            "50000/50000 [==============================] - 8s 168us/step - loss: 0.6054 - acc: 0.7877 - val_loss: 0.6494 - val_acc: 0.7741\n",
            "Epoch 33/50\n",
            "50000/50000 [==============================] - 8s 166us/step - loss: 0.5932 - acc: 0.7925 - val_loss: 0.6543 - val_acc: 0.7738\n",
            "Epoch 34/50\n",
            "50000/50000 [==============================] - 8s 169us/step - loss: 0.5845 - acc: 0.7940 - val_loss: 0.6383 - val_acc: 0.7803\n",
            "Epoch 35/50\n",
            "50000/50000 [==============================] - 8s 167us/step - loss: 0.5705 - acc: 0.8002 - val_loss: 0.6323 - val_acc: 0.7842\n",
            "Epoch 36/50\n",
            "50000/50000 [==============================] - 9s 172us/step - loss: 0.5613 - acc: 0.8032 - val_loss: 0.6280 - val_acc: 0.7854\n",
            "Epoch 37/50\n",
            "50000/50000 [==============================] - 8s 166us/step - loss: 0.5536 - acc: 0.8058 - val_loss: 0.6355 - val_acc: 0.7832\n",
            "Epoch 38/50\n",
            "50000/50000 [==============================] - 9s 173us/step - loss: 0.5393 - acc: 0.8097 - val_loss: 0.6171 - val_acc: 0.7892\n",
            "Epoch 39/50\n",
            "50000/50000 [==============================] - 9s 173us/step - loss: 0.5327 - acc: 0.8126 - val_loss: 0.6032 - val_acc: 0.7942\n",
            "Epoch 40/50\n",
            "50000/50000 [==============================] - 8s 168us/step - loss: 0.5205 - acc: 0.8166 - val_loss: 0.6123 - val_acc: 0.7894\n",
            "Epoch 41/50\n",
            "50000/50000 [==============================] - 8s 166us/step - loss: 0.5079 - acc: 0.8199 - val_loss: 0.6057 - val_acc: 0.7935\n",
            "Epoch 42/50\n",
            "50000/50000 [==============================] - 8s 167us/step - loss: 0.5019 - acc: 0.8210 - val_loss: 0.5982 - val_acc: 0.7949\n",
            "Epoch 43/50\n",
            "50000/50000 [==============================] - 8s 169us/step - loss: 0.4953 - acc: 0.8249 - val_loss: 0.6028 - val_acc: 0.7910\n",
            "Epoch 44/50\n",
            "50000/50000 [==============================] - 8s 166us/step - loss: 0.4823 - acc: 0.8256 - val_loss: 0.6032 - val_acc: 0.7932\n",
            "Epoch 45/50\n",
            "50000/50000 [==============================] - 8s 167us/step - loss: 0.4740 - acc: 0.8315 - val_loss: 0.5863 - val_acc: 0.8023\n",
            "Epoch 46/50\n",
            "50000/50000 [==============================] - 8s 169us/step - loss: 0.4619 - acc: 0.8351 - val_loss: 0.5857 - val_acc: 0.7998\n",
            "Epoch 47/50\n",
            "50000/50000 [==============================] - 8s 167us/step - loss: 0.4556 - acc: 0.8381 - val_loss: 0.6198 - val_acc: 0.7950\n",
            "Epoch 48/50\n",
            "50000/50000 [==============================] - 8s 167us/step - loss: 0.4436 - acc: 0.8420 - val_loss: 0.6037 - val_acc: 0.7956\n",
            "Epoch 49/50\n",
            "50000/50000 [==============================] - 8s 168us/step - loss: 0.4385 - acc: 0.8427 - val_loss: 0.6033 - val_acc: 0.7978\n",
            "Epoch 50/50\n",
            "50000/50000 [==============================] - 8s 167us/step - loss: 0.4293 - acc: 0.8472 - val_loss: 0.5972 - val_acc: 0.8021\n"
          ],
          "name": "stdout"
        },
        {
          "output_type": "execute_result",
          "data": {
            "text/plain": [
              "<keras.callbacks.History at 0x7f69b50a6518>"
            ]
          },
          "metadata": {
            "tags": []
          },
          "execution_count": 10
        }
      ]
    },
    {
      "cell_type": "markdown",
      "metadata": {
        "id": "akFn_k6Rm-8w",
        "colab_type": "text"
      },
      "source": [
        "Result: After 50 epochs, the difference between training and validation accuracy is low but the training is slow as compared to the model with batch normalization."
      ]
    },
    {
      "cell_type": "code",
      "metadata": {
        "id": "REEGONjJoIkC",
        "colab_type": "code",
        "colab": {}
      },
      "source": [
        ""
      ],
      "execution_count": 0,
      "outputs": []
    }
  ]
}